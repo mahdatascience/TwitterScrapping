{
 "cells": [
  {
   "cell_type": "code",
   "execution_count": 1,
   "id": "40bf72b2",
   "metadata": {},
   "outputs": [],
   "source": [
    "import snscrape\n",
    "\n",
    "def scrape_twitter_data(keyword):\n",
    "    tweets = []\n",
    "    for tweet in snscrape.modules.twitter.TwitterSearchScraper(keyword).get_items():\n",
    "        tweets.append({\n",
    "            'date': tweet.date,\n",
    "            'id': tweet.id,\n",
    "            'url': tweet.url,\n",
    "            'content': tweet.text,\n",
    "            'user': tweet.username,\n",
    "            'reply_count': tweet.reply_count,\n",
    "            'retweet_count': tweet.retweet_count,\n",
    "            'language': tweet.language,\n",
    "            'source': tweet.source,\n",
    "            'like_count': tweet.like_count\n",
    "        })\n",
    "    return tweets"
   ]
  },
  {
   "cell_type": "code",
   "execution_count": 2,
   "id": "3543222f",
   "metadata": {},
   "outputs": [],
   "source": [
    "import pandas as pd\n",
    "from pymongo import MongoClient\n",
    "\n",
    "# Create a MongoDB client and a database\n",
    "client = MongoClient()\n",
    "db = client.twitter_data\n",
    "\n",
    "def store_data_in_mongodb(keyword, tweets):\n",
    "    # Create a collection for the keyword\n",
    "    collection = db[keyword]\n",
    "    # Insert the tweets into the collection\n",
    "    collection.insert_many(tweets)\n",
    "\n",
    "def get_data_from_mongodb(keyword):\n",
    "    collection = db[keyword]\n",
    "    return list(collection.find())"
   ]
  },
  {
   "cell_type": "code",
   "execution_count": 3,
   "id": "7af72f54",
   "metadata": {},
   "outputs": [
    {
     "name": "stderr",
     "output_type": "stream",
     "text": [
      "2023-01-29 17:53:57.942 \n",
      "  \u001b[33m\u001b[1mWarning:\u001b[0m to view this Streamlit app on a browser, run it with the following\n",
      "  command:\n",
      "\n",
      "    streamlit run C:\\Users\\91867\\anaconda3\\lib\\site-packages\\ipykernel_launcher.py [ARGUMENTS]\n"
     ]
    }
   ],
   "source": [
    "import streamlit as st\n",
    "\n",
    "def create_gui():\n",
    "    st.title(\"Twitter Data Scraper\")\n",
    "    keyword = st.text_input(\"Enter keyword or hashtag:\")    \n",
    "    date_range = st.date_input(\"Select date range:\")\n",
    "    tweet_count = st.number_input(\"Enter tweet count limit:\")\n",
    "\n",
    "    if st.button(\"Scrape Data\"):\n",
    "        tweets = scrape_twitter_data(keyword)\n",
    "        # Filter tweets based on date range and tweet count limit\n",
    "        tweets = [t for t in tweets if date_range[0] <= t['date'] <= date_range[1]][:tweet_count]\n",
    "        df = pd.DataFrame(tweets)\n",
    "        st.dataframe(df)\n",
    "        if st.button(\"Upload to Database\"):\n",
    "            store_data_in_mongodb(keyword, tweets)\n",
    "            st.success(\"Data uploaded to database!\")\n",
    "        if st.button(\"Download as CSV\"):\n",
    "            df.to_csv(f\"{keyword}.csv\")\n",
    "            st.success(\"CSV downloaded!\")\n",
    "        if st.button(\"Download as JSON\"):\n",
    "            df.to_json(f\"{keyword}.json\")\n",
    "            st.success(\"JSON downloaded!\")\n",
    "\n",
    "if __name__ == '__main__':\n",
    "    create_gui()\n"
   ]
  }
 ],
 "metadata": {
  "kernelspec": {
   "display_name": "Python 3 (ipykernel)",
   "language": "python",
   "name": "python3"
  },
  "language_info": {
   "codemirror_mode": {
    "name": "ipython",
    "version": 3
   },
   "file_extension": ".py",
   "mimetype": "text/x-python",
   "name": "python",
   "nbconvert_exporter": "python",
   "pygments_lexer": "ipython3",
   "version": "3.9.13"
  }
 },
 "nbformat": 4,
 "nbformat_minor": 5
}
